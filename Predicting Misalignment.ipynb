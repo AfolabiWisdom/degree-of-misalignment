{
 "cells": [
  {
   "cell_type": "markdown",
   "id": "adb997b0-ff3d-476e-9a33-c20e26168ba0",
   "metadata": {},
   "source": [
    "CONDUCTOR MISALIGNMENT PREDICTION"
   ]
  },
  {
   "cell_type": "code",
   "execution_count": 191,
   "id": "d85cc024-e99e-473e-adc6-45ca00565caa",
   "metadata": {},
   "outputs": [],
   "source": [
    "import numpy as np\n",
    "import pandas as pd\n",
    "import matplotlib.pyplot as plt\n",
    "%matplotlib inline\n",
    "plt.style.use('seaborn-v0_8-darkgrid')\n",
    "from IPython.display import display, HTML, display_html\n",
    "import seaborn as sns\n",
    "import datetime\n",
    "    \n",
    "# Machine Learning Models\n",
    "from sklearn.ensemble import RandomForestRegressor\n",
    "from sklearn.svm import SVR\n",
    "from sklearn.neural_network import MLPRegressor\n",
    "from sklearn import preprocessing\n",
    "from sklearn.linear_model import LinearRegression\n",
    "from sklearn.tree import DecisionTreeRegressor\n",
    "from sklearn.preprocessing import StandardScaler, MinMaxScaler\n",
    "from sklearn.model_selection import TimeSeriesSplit\n",
    "# Train-test split\n",
    "from sklearn.model_selection import train_test_split\n",
    "\n",
    "\n",
    "# Hyperparameter tuning\n",
    "from sklearn.model_selection import cross_val_score\n",
    "from sklearn.model_selection import RandomizedSearchCV, GridSearchCV\n",
    "\n",
    "\n",
    "# Metrics\n",
    "\n",
    "from sklearn import metrics\n",
    "from sklearn.metrics import mean_absolute_error\n",
    "from sklearn.metrics import mean_squared_error\n",
    "from sklearn.metrics import r2_score\n",
    "from sklearn.metrics import explained_variance_score\n",
    "\n",
    "# Additionals\n",
    "\n",
    "from pprint import pprint\n",
    "from math import sqrt"
   ]
  },
  {
   "cell_type": "code",
   "execution_count": 193,
   "id": "14df4207-d8d3-4082-b5a2-5c7fe7010267",
   "metadata": {
    "scrolled": true
   },
   "outputs": [
    {
     "data": {
      "text/html": [
       "<div>\n",
       "<style scoped>\n",
       "    .dataframe tbody tr th:only-of-type {\n",
       "        vertical-align: middle;\n",
       "    }\n",
       "\n",
       "    .dataframe tbody tr th {\n",
       "        vertical-align: top;\n",
       "    }\n",
       "\n",
       "    .dataframe thead th {\n",
       "        text-align: right;\n",
       "    }\n",
       "</style>\n",
       "<table border=\"1\" class=\"dataframe\">\n",
       "  <thead>\n",
       "    <tr style=\"text-align: right;\">\n",
       "      <th></th>\n",
       "      <th>S/N</th>\n",
       "      <th>Type/Grade</th>\n",
       "      <th>OD (in)</th>\n",
       "      <th>ID (in)</th>\n",
       "      <th>BPF</th>\n",
       "      <th>Refusal Depth (ft)</th>\n",
       "      <th>Days</th>\n",
       "      <th>Deg. Misalign</th>\n",
       "      <th>Wt (ppf)</th>\n",
       "      <th>Grade</th>\n",
       "      <th>Ys (psi)</th>\n",
       "      <th>Terrain</th>\n",
       "      <th>Hammer Type</th>\n",
       "    </tr>\n",
       "  </thead>\n",
       "  <tbody>\n",
       "    <tr>\n",
       "      <th>0</th>\n",
       "      <td>1</td>\n",
       "      <td>X56 weld-on</td>\n",
       "      <td>24</td>\n",
       "      <td>22.5</td>\n",
       "      <td>156</td>\n",
       "      <td>399</td>\n",
       "      <td>3</td>\n",
       "      <td>2.0</td>\n",
       "      <td>186</td>\n",
       "      <td>X56</td>\n",
       "      <td>56565</td>\n",
       "      <td>Land</td>\n",
       "      <td>Diesel</td>\n",
       "    </tr>\n",
       "    <tr>\n",
       "      <th>1</th>\n",
       "      <td>2</td>\n",
       "      <td>X52 weld-on</td>\n",
       "      <td>30</td>\n",
       "      <td>28.0</td>\n",
       "      <td>168</td>\n",
       "      <td>353</td>\n",
       "      <td>3</td>\n",
       "      <td>2.5</td>\n",
       "      <td>310</td>\n",
       "      <td>X52</td>\n",
       "      <td>52214</td>\n",
       "      <td>Land</td>\n",
       "      <td>Diesel</td>\n",
       "    </tr>\n",
       "    <tr>\n",
       "      <th>2</th>\n",
       "      <td>3</td>\n",
       "      <td>X52 weld-on</td>\n",
       "      <td>30</td>\n",
       "      <td>28.0</td>\n",
       "      <td>98</td>\n",
       "      <td>358</td>\n",
       "      <td>3</td>\n",
       "      <td>0.5</td>\n",
       "      <td>310</td>\n",
       "      <td>X52</td>\n",
       "      <td>52214</td>\n",
       "      <td>Land</td>\n",
       "      <td>Diesel</td>\n",
       "    </tr>\n",
       "    <tr>\n",
       "      <th>3</th>\n",
       "      <td>4</td>\n",
       "      <td>X56 weld-on</td>\n",
       "      <td>24</td>\n",
       "      <td>22.5</td>\n",
       "      <td>135</td>\n",
       "      <td>362</td>\n",
       "      <td>2</td>\n",
       "      <td>1.5</td>\n",
       "      <td>186</td>\n",
       "      <td>X56</td>\n",
       "      <td>56565</td>\n",
       "      <td>Swamp</td>\n",
       "      <td>Diesel</td>\n",
       "    </tr>\n",
       "    <tr>\n",
       "      <th>4</th>\n",
       "      <td>5</td>\n",
       "      <td>X56 weld-on</td>\n",
       "      <td>24</td>\n",
       "      <td>22.5</td>\n",
       "      <td>68</td>\n",
       "      <td>369</td>\n",
       "      <td>2</td>\n",
       "      <td>4.5</td>\n",
       "      <td>186</td>\n",
       "      <td>X56</td>\n",
       "      <td>56565</td>\n",
       "      <td>Swamp</td>\n",
       "      <td>Hydraulic</td>\n",
       "    </tr>\n",
       "  </tbody>\n",
       "</table>\n",
       "</div>"
      ],
      "text/plain": [
       "   S/N   Type/Grade  OD (in)  ID (in)  BPF  Refusal Depth (ft)  Days  \\\n",
       "0    1  X56 weld-on       24     22.5  156                 399     3   \n",
       "1    2  X52 weld-on       30     28.0  168                 353     3   \n",
       "2    3  X52 weld-on       30     28.0   98                 358     3   \n",
       "3    4  X56 weld-on       24     22.5  135                 362     2   \n",
       "4    5  X56 weld-on       24     22.5   68                 369     2   \n",
       "\n",
       "   Deg. Misalign  Wt (ppf) Grade  Ys (psi) Terrain Hammer Type  \n",
       "0            2.0       186   X56     56565    Land      Diesel  \n",
       "1            2.5       310   X52     52214    Land      Diesel  \n",
       "2            0.5       310   X52     52214    Land      Diesel  \n",
       "3            1.5       186   X56     56565   Swamp      Diesel  \n",
       "4            4.5       186   X56     56565   Swamp   Hydraulic  "
      ]
     },
     "execution_count": 193,
     "metadata": {},
     "output_type": "execute_result"
    }
   ],
   "source": [
    "df = pd.read_csv('Data.csv')\n",
    "\n",
    "df.head()"
   ]
  },
  {
   "cell_type": "code",
   "execution_count": 194,
   "id": "dd601009-28d8-4c1c-848a-72e84d232b5d",
   "metadata": {},
   "outputs": [
    {
     "name": "stdout",
     "output_type": "stream",
     "text": [
      "   OD (in)  ID (in)  BPF  Refusal Depth (ft)  Days  Deg. Misalign  Wt (ppf)  \\\n",
      "0       24     22.5  156                 399     3            2.0       186   \n",
      "1       30     28.0  168                 353     3            2.5       310   \n",
      "2       30     28.0   98                 358     3            0.5       310   \n",
      "3       24     22.5  135                 362     2            1.5       186   \n",
      "4       24     22.5   68                 369     2            4.5       186   \n",
      "\n",
      "   Ys (psi)  \n",
      "0     56565  \n",
      "1     52214  \n",
      "2     52214  \n",
      "3     56565  \n",
      "4     56565  \n"
     ]
    }
   ],
   "source": [
    "df = df.drop(['S/N','Type/Grade','Grade','Terrain', 'Hammer Type'], axis=1)\n",
    "print(df.head())\n"
   ]
  },
  {
   "cell_type": "code",
   "execution_count": 195,
   "id": "9dec5630-25b5-4f3a-90b0-f4e6000d931b",
   "metadata": {},
   "outputs": [
    {
     "name": "stdout",
     "output_type": "stream",
     "text": [
      "Original number of rows: 20\n"
     ]
    }
   ],
   "source": [
    "print(f\"Original number of rows: {len(df)}\")"
   ]
  },
  {
   "cell_type": "code",
   "execution_count": 196,
   "id": "f4ba7886-7f84-420f-94f8-ecc6de95672b",
   "metadata": {},
   "outputs": [],
   "source": [
    "df = df.sample(n=200, replace=True)"
   ]
  },
  {
   "cell_type": "code",
   "execution_count": 201,
   "id": "04b9b2f2-4405-4639-acaa-234587764bae",
   "metadata": {},
   "outputs": [
    {
     "name": "stdout",
     "output_type": "stream",
     "text": [
      "Number of rows after bootstrapping: 200\n"
     ]
    }
   ],
   "source": [
    "print(f\"Number of rows after bootstrapping: {len(df)}\")"
   ]
  },
  {
   "cell_type": "code",
   "execution_count": 202,
   "id": "3435a209-4a16-4676-af38-f05d65165987",
   "metadata": {},
   "outputs": [],
   "source": [
    "df.to_csv('bootstrapped_data.csv', index=False)"
   ]
  },
  {
   "cell_type": "code",
   "execution_count": 203,
   "id": "577a962f-8f91-4089-80a6-1fbc06e38bd3",
   "metadata": {},
   "outputs": [
    {
     "name": "stdout",
     "output_type": "stream",
     "text": [
      "Bootstrapped data saved to 'bootstrapped_data.csv'\n"
     ]
    }
   ],
   "source": [
    "print(\"Bootstrapped data saved to 'bootstrapped_data.csv'\")"
   ]
  },
  {
   "cell_type": "code",
   "execution_count": 207,
   "id": "e88d6a81-5195-4499-9c8b-2bd9511b3291",
   "metadata": {},
   "outputs": [
    {
     "data": {
      "text/html": [
       "<div>\n",
       "<style scoped>\n",
       "    .dataframe tbody tr th:only-of-type {\n",
       "        vertical-align: middle;\n",
       "    }\n",
       "\n",
       "    .dataframe tbody tr th {\n",
       "        vertical-align: top;\n",
       "    }\n",
       "\n",
       "    .dataframe thead th {\n",
       "        text-align: right;\n",
       "    }\n",
       "</style>\n",
       "<table border=\"1\" class=\"dataframe\">\n",
       "  <thead>\n",
       "    <tr style=\"text-align: right;\">\n",
       "      <th></th>\n",
       "      <th>OD (in)</th>\n",
       "      <th>ID (in)</th>\n",
       "      <th>BPF</th>\n",
       "      <th>Refusal Depth (ft)</th>\n",
       "      <th>Days</th>\n",
       "      <th>Deg. Misalign</th>\n",
       "      <th>Wt (ppf)</th>\n",
       "      <th>Ys (psi)</th>\n",
       "    </tr>\n",
       "  </thead>\n",
       "  <tbody>\n",
       "    <tr>\n",
       "      <th>9</th>\n",
       "      <td>30</td>\n",
       "      <td>28.0</td>\n",
       "      <td>250</td>\n",
       "      <td>275</td>\n",
       "      <td>2</td>\n",
       "      <td>0.0</td>\n",
       "      <td>310</td>\n",
       "      <td>52214</td>\n",
       "    </tr>\n",
       "    <tr>\n",
       "      <th>17</th>\n",
       "      <td>30</td>\n",
       "      <td>28.0</td>\n",
       "      <td>120</td>\n",
       "      <td>307</td>\n",
       "      <td>3</td>\n",
       "      <td>0.0</td>\n",
       "      <td>310</td>\n",
       "      <td>56565</td>\n",
       "    </tr>\n",
       "    <tr>\n",
       "      <th>16</th>\n",
       "      <td>30</td>\n",
       "      <td>28.0</td>\n",
       "      <td>120</td>\n",
       "      <td>190</td>\n",
       "      <td>2</td>\n",
       "      <td>0.0</td>\n",
       "      <td>310</td>\n",
       "      <td>52214</td>\n",
       "    </tr>\n",
       "    <tr>\n",
       "      <th>17</th>\n",
       "      <td>30</td>\n",
       "      <td>28.0</td>\n",
       "      <td>120</td>\n",
       "      <td>307</td>\n",
       "      <td>3</td>\n",
       "      <td>0.0</td>\n",
       "      <td>310</td>\n",
       "      <td>56565</td>\n",
       "    </tr>\n",
       "    <tr>\n",
       "      <th>9</th>\n",
       "      <td>30</td>\n",
       "      <td>28.0</td>\n",
       "      <td>250</td>\n",
       "      <td>275</td>\n",
       "      <td>2</td>\n",
       "      <td>0.0</td>\n",
       "      <td>310</td>\n",
       "      <td>52214</td>\n",
       "    </tr>\n",
       "  </tbody>\n",
       "</table>\n",
       "</div>"
      ],
      "text/plain": [
       "    OD (in)  ID (in)  BPF  Refusal Depth (ft)  Days  Deg. Misalign  Wt (ppf)  \\\n",
       "9        30     28.0  250                 275     2            0.0       310   \n",
       "17       30     28.0  120                 307     3            0.0       310   \n",
       "16       30     28.0  120                 190     2            0.0       310   \n",
       "17       30     28.0  120                 307     3            0.0       310   \n",
       "9        30     28.0  250                 275     2            0.0       310   \n",
       "\n",
       "    Ys (psi)  \n",
       "9      52214  \n",
       "17     56565  \n",
       "16     52214  \n",
       "17     56565  \n",
       "9      52214  "
      ]
     },
     "execution_count": 207,
     "metadata": {},
     "output_type": "execute_result"
    }
   ],
   "source": [
    "df.head()"
   ]
  },
  {
   "cell_type": "code",
   "execution_count": 209,
   "id": "94dd108b-bc9b-4e3c-b66e-7cfc3e447b7c",
   "metadata": {},
   "outputs": [
    {
     "data": {
      "text/html": [
       "<div>\n",
       "<style scoped>\n",
       "    .dataframe tbody tr th:only-of-type {\n",
       "        vertical-align: middle;\n",
       "    }\n",
       "\n",
       "    .dataframe tbody tr th {\n",
       "        vertical-align: top;\n",
       "    }\n",
       "\n",
       "    .dataframe thead th {\n",
       "        text-align: right;\n",
       "    }\n",
       "</style>\n",
       "<table border=\"1\" class=\"dataframe\">\n",
       "  <thead>\n",
       "    <tr style=\"text-align: right;\">\n",
       "      <th></th>\n",
       "      <th>0</th>\n",
       "      <th>1</th>\n",
       "      <th>2</th>\n",
       "      <th>3</th>\n",
       "      <th>4</th>\n",
       "      <th>5</th>\n",
       "      <th>6</th>\n",
       "      <th>7</th>\n",
       "    </tr>\n",
       "  </thead>\n",
       "  <tbody>\n",
       "    <tr>\n",
       "      <th>0</th>\n",
       "      <td>0.5</td>\n",
       "      <td>0.478261</td>\n",
       "      <td>1.000000</td>\n",
       "      <td>0.336735</td>\n",
       "      <td>0.0</td>\n",
       "      <td>0.0</td>\n",
       "      <td>0.659574</td>\n",
       "      <td>0.0</td>\n",
       "    </tr>\n",
       "    <tr>\n",
       "      <th>1</th>\n",
       "      <td>0.5</td>\n",
       "      <td>0.478261</td>\n",
       "      <td>0.329897</td>\n",
       "      <td>0.445578</td>\n",
       "      <td>0.5</td>\n",
       "      <td>0.0</td>\n",
       "      <td>0.659574</td>\n",
       "      <td>1.0</td>\n",
       "    </tr>\n",
       "    <tr>\n",
       "      <th>2</th>\n",
       "      <td>0.5</td>\n",
       "      <td>0.478261</td>\n",
       "      <td>0.329897</td>\n",
       "      <td>0.047619</td>\n",
       "      <td>0.0</td>\n",
       "      <td>0.0</td>\n",
       "      <td>0.659574</td>\n",
       "      <td>0.0</td>\n",
       "    </tr>\n",
       "    <tr>\n",
       "      <th>3</th>\n",
       "      <td>0.5</td>\n",
       "      <td>0.478261</td>\n",
       "      <td>0.329897</td>\n",
       "      <td>0.445578</td>\n",
       "      <td>0.5</td>\n",
       "      <td>0.0</td>\n",
       "      <td>0.659574</td>\n",
       "      <td>1.0</td>\n",
       "    </tr>\n",
       "    <tr>\n",
       "      <th>4</th>\n",
       "      <td>0.5</td>\n",
       "      <td>0.478261</td>\n",
       "      <td>1.000000</td>\n",
       "      <td>0.336735</td>\n",
       "      <td>0.0</td>\n",
       "      <td>0.0</td>\n",
       "      <td>0.659574</td>\n",
       "      <td>0.0</td>\n",
       "    </tr>\n",
       "  </tbody>\n",
       "</table>\n",
       "</div>"
      ],
      "text/plain": [
       "     0         1         2         3    4    5         6    7\n",
       "0  0.5  0.478261  1.000000  0.336735  0.0  0.0  0.659574  0.0\n",
       "1  0.5  0.478261  0.329897  0.445578  0.5  0.0  0.659574  1.0\n",
       "2  0.5  0.478261  0.329897  0.047619  0.0  0.0  0.659574  0.0\n",
       "3  0.5  0.478261  0.329897  0.445578  0.5  0.0  0.659574  1.0\n",
       "4  0.5  0.478261  1.000000  0.336735  0.0  0.0  0.659574  0.0"
      ]
     },
     "execution_count": 209,
     "metadata": {},
     "output_type": "execute_result"
    }
   ],
   "source": [
    "scaler_all_data = MinMaxScaler()\n",
    "data_scaled = scaler_all_data.fit_transform(df)\n",
    "df_data_scaled=pd.DataFrame(data_scaled)\n",
    "df_data_scaled.head(5)"
   ]
  },
  {
   "cell_type": "code",
   "execution_count": 211,
   "id": "18a855dd-d71b-4c9b-bac0-96eef4bd666d",
   "metadata": {},
   "outputs": [
    {
     "data": {
      "image/png": "[encoded data removed]",
      "text/plain": [
       "<Figure size 3000x1000 with 1 Axes>"
      ]
     },
     "metadata": {},
     "output_type": "display_data"
    }
   ],
   "source": [
    "color = {'boxes': 'DarkGreen', 'whiskers': 'DarkOrange', 'medians': 'DarkBlue', 'caps': 'Gray'}\n",
    "bp_scaled_all_data = df_data_scaled.plot.box(color=color, sym='r+' ,figsize=(30,10))"
   ]
  },
  {
   "cell_type": "code",
   "execution_count": 212,
   "id": "bbeb7b81-114b-4233-b957-a611da70df1f",
   "metadata": {},
   "outputs": [
    {
     "name": "stdout",
     "output_type": "stream",
     "text": [
      "Index(['OD (in)', 'ID (in)', 'BPF', 'Refusal Depth (ft)', 'Days',\n",
      "       'Deg. Misalign', 'Wt (ppf)', 'Ys (psi)'],\n",
      "      dtype='object')\n"
     ]
    }
   ],
   "source": [
    "print(df.columns)"
   ]
  },
  {
   "cell_type": "code",
   "execution_count": 213,
   "id": "6f4da783-45d0-42c7-9140-0b1b65831896",
   "metadata": {},
   "outputs": [
    {
     "name": "stdout",
     "output_type": "stream",
     "text": [
      "Column: OD (in)\n",
      "Mean: 27.84\n",
      "Variance: 10.868743718592963\n",
      "Standard Deviation: 3.2967777781635452\n",
      "\n",
      "Column: ID (in)\n",
      "Mean: 26.0375\n",
      "Variance: 9.404365577889463\n",
      "Standard Deviation: 3.066653807962265\n",
      "\n",
      "Column: BPF\n",
      "Mean: 132.93\n",
      "Variance: 1398.889547738693\n",
      "Standard Deviation: 37.40173188154117\n",
      "\n",
      "Column: Refusal Depth (ft)\n",
      "Mean: 327.085\n",
      "Variance: 6334.590728643218\n",
      "Standard Deviation: 79.59014215745074\n",
      "\n",
      "Column: Wt (ppf)\n",
      "Mean: 263.26\n",
      "Variance: 4052.514974874371\n",
      "Standard Deviation: 63.65936674892683\n",
      "\n",
      "Column: Ys (psi)\n",
      "Mean: 54715.825\n",
      "Variance: 4649560.044597975\n",
      "Standard Deviation: 2156.2838506555613\n",
      "\n"
     ]
    }
   ],
   "source": [
    "# List of columns to analyze\n",
    "columns = ['OD (in)', 'ID (in)', 'BPF', 'Refusal Depth (ft)', 'Wt (ppf)', 'Ys (psi)']\n",
    "\n",
    "# Calculate mean, variance, and standard deviation\n",
    "for col in columns:\n",
    "    if col in df.columns:\n",
    "        mean = df[col].mean()\n",
    "        variance = df[col].var()\n",
    "        std_deviation = df[col].std()\n",
    "        print(f\"Column: {col}\")\n",
    "        print(f\"Mean: {mean}\")\n",
    "        print(f\"Variance: {variance}\")\n",
    "        print(f\"Standard Deviation: {std_deviation}\\n\")\n",
    "    else:\n",
    "        print(f\"Column '{col}' not found in DataFrame.\\n\")"
   ]
  },
  {
   "cell_type": "code",
   "execution_count": 214,
   "id": "e918cdff-40db-42ec-a43e-c8cf0ecbdff3",
   "metadata": {},
   "outputs": [
    {
     "name": "stdout",
     "output_type": "stream",
     "text": [
      "               Column        Mean      Variance  Standard Deviation\n",
      "0             OD (in)     27.8400  1.086874e+01            3.296778\n",
      "1             ID (in)     26.0375  9.404366e+00            3.066654\n",
      "2                 BPF    132.9300  1.398890e+03           37.401732\n",
      "3  Refusal Depth (ft)    327.0850  6.334591e+03           79.590142\n",
      "4            Wt (ppf)    263.2600  4.052515e+03           63.659367\n",
      "5            Ys (psi)  54715.8250  4.649560e+06         2156.283851\n"
     ]
    }
   ],
   "source": [
    "parameters = df[['OD (in)', 'ID (in)', 'BPF', 'Refusal Depth (ft)', 'Wt (ppf)', 'Ys (psi)']]\n",
    "\n",
    "# Initialize dictionaries to store statistics\n",
    "stats_data = {\n",
    "    'Column': [],\n",
    "    'Mean': [],\n",
    "    'Variance': [],\n",
    "    'Standard Deviation': []\n",
    "}\n",
    "\n",
    "# Calculate the mean, variance, and standard deviation for each column\n",
    "for col in parameters.columns:\n",
    "    stats_data['Column'].append(col)\n",
    "    stats_data['Mean'].append(parameters[col].mean())\n",
    "    stats_data['Variance'].append(parameters[col].var())\n",
    "    stats_data['Standard Deviation'].append(parameters[col].std())\n",
    "\n",
    "# Convert the dictionary into a pandas DataFrame for a table-like display\n",
    "stats_df = pd.DataFrame(stats_data)\n",
    "\n",
    "# Display the table\n",
    "print(stats_df)"
   ]
  },
  {
   "cell_type": "code",
   "execution_count": 218,
   "id": "dd8f744d-06a1-428d-8181-8ee3a032a0e0",
   "metadata": {},
   "outputs": [
    {
     "name": "stdout",
     "output_type": "stream",
     "text": [
      "Pearson Correlation Matrix:\n",
      "                     OD (in)   ID (in)       BPF  Refusal Depth (ft)  \\\n",
      "OD (in)             1.000000  0.999650  0.031533           -0.443300   \n",
      "ID (in)             0.999650  1.000000  0.029859           -0.445721   \n",
      "BPF                 0.031533  0.029859  1.000000           -0.009770   \n",
      "Refusal Depth (ft) -0.443300 -0.445721 -0.009770            1.000000   \n",
      "Days                0.242297  0.234576 -0.081611            0.622016   \n",
      "Deg. Misalign       0.017245  0.023415 -0.257087            0.335521   \n",
      "Wt (ppf)            0.988220  0.983823  0.040779           -0.423184   \n",
      "Ys (psi)           -0.564694 -0.551561 -0.137437            0.289100   \n",
      "\n",
      "                        Days  Deg. Misalign  Wt (ppf)  Ys (psi)  \n",
      "OD (in)             0.242297       0.017245  0.988220 -0.564694  \n",
      "ID (in)             0.234576       0.023415  0.983823 -0.551561  \n",
      "BPF                -0.081611      -0.257087  0.040779 -0.137437  \n",
      "Refusal Depth (ft)  0.622016       0.335521 -0.423184  0.289100  \n",
      "Days                1.000000       0.245536  0.283582 -0.134710  \n",
      "Deg. Misalign       0.245536       1.000000 -0.018662  0.014937  \n",
      "Wt (ppf)            0.283582      -0.018662  1.000000 -0.632813  \n",
      "Ys (psi)           -0.134710       0.014937 -0.632813  1.000000  \n"
     ]
    },
    {
     "data": {
      "image/png": "[encoded data removed]",
      "text/plain": [
       "<Figure size 1000x800 with 2 Axes>"
      ]
     },
     "metadata": {},
     "output_type": "display_data"
    }
   ],
   "source": [
    "import pandas as pd\n",
    "import seaborn as sns\n",
    "import matplotlib.pyplot as plt\n",
    "\n",
    "# Calculate the Pearson correlation matrix\n",
    "correlation_matrix = df.corr(method='pearson')\n",
    "\n",
    "# Print the correlation matrix\n",
    "print(\"Pearson Correlation Matrix:\")\n",
    "print(correlation_matrix)\n",
    "\n",
    "# Optional: Visualize the correlation matrix with a heatmap\n",
    "plt.figure(figsize=(10, 8))\n",
    "sns.heatmap(correlation_matrix, annot=True, cmap='coolwarm', fmt='.2f', linewidths=0.5)\n",
    "plt.title('Pearson Correlation Matrix')\n",
    "plt.show()"
   ]
  },
  {
   "cell_type": "code",
   "execution_count": 220,
   "id": "fd4576c4-1bf4-472a-ab96-3d750d441546",
   "metadata": {},
   "outputs": [],
   "source": [
    "# pairs = [\n",
    "#     ('Deg. Misalign', 'ID (in)'),\n",
    "#     ('Deg. Misalign', 'BPF'),\n",
    "#     ('Deg. Misalign', 'Refusal Depth (ft)'),\n",
    "#     ('Deg. Misalign', 'Wt (ppf)'),\n",
    "#     ('Deg. Misalign', 'Ys (psi)'),\n",
    "#     ('Deg. Misalign', 'OD (in)')\n",
    "#     # Add more pairs as needed\n",
    "# ]\n",
    "\n",
    "# # Create scatter plots for each pair\n",
    "# for x_col, y_col in pairs:\n",
    "#     plt.figure(figsize=(10, 6))\n",
    "#     plt.scatter(df[x_col], df[y_col], alpha=0.7, edgecolors='w', s=100)\n",
    "#     plt.title(f'Scatter Plot: {x_col} vs {y_col}')\n",
    "#     plt.xlabel(x_col)\n",
    "#     plt.ylabel(y_col)\n",
    "#     plt.grid(True)\n",
    "#     plt.show()"
   ]
  },
  {
   "cell_type": "code",
   "execution_count": 221,
   "id": "75573e40-77a3-4cb6-8eb1-6d4b6bd4f8e6",
   "metadata": {
    "scrolled": true
   },
   "outputs": [
    {
     "name": "stdout",
     "output_type": "stream",
     "text": [
      "Features shape: (200, 6)\n",
      "Target shape (200,)\n"
     ]
    }
   ],
   "source": [
    "X = df.filter(['OD (in)','ID (in)','BPF','Refusal Depth (ft)', 'Wt (ppf)', 'Ys (psi)'])\n",
    "Y = df[['Deg. Misalign']]\n",
    "Y= np.ravel(Y)\n",
    "print('Features shape:', X.shape)\n",
    "print('Target shape', Y.shape)"
   ]
  },
  {
   "cell_type": "code",
   "execution_count": 223,
   "id": "a04abb1a-6bd5-426a-a2e3-4a3acfc019f5",
   "metadata": {},
   "outputs": [],
   "source": [
    "models = {\n",
    "    'Linear Regression': LinearRegression(),\n",
    "    'Decision Tree': DecisionTreeRegressor(),\n",
    "    'Random Forest': RandomForestRegressor(),\n",
    "    'SVR': SVR()\n",
    "}"
   ]
  },
  {
   "cell_type": "code",
   "execution_count": 227,
   "id": "ca55f4bf-7ccc-4a38-9fed-e98a54394ac4",
   "metadata": {},
   "outputs": [],
   "source": [
    "X_train, X_test, y_train, y_test = train_test_split(X, Y, test_size=0.3, random_state=42, shuffle = True)\n",
    "\n",
    "\n",
    "Time=df.iloc[:,0]\n",
    "Time_train, Time_test = train_test_split(Time, test_size=0.3, random_state=42)"
   ]
  },
  {
   "cell_type": "code",
   "execution_count": 228,
   "id": "fbd46bc2-402f-4fdd-95a0-dcfe816419ea",
   "metadata": {},
   "outputs": [
    {
     "name": "stdout",
     "output_type": "stream",
     "text": [
      "Linear Regression: RMSE = 1.0370 (+/- 0.0780)\n",
      "Decision Tree: RMSE = 0.0000 (+/- 0.0000)\n",
      "Random Forest: RMSE = 0.0616 (+/- 0.0302)\n",
      "SVR: RMSE = 1.2407 (+/- 0.1405)\n",
      "Best Model: Decision Tree with RMSE of 0.0000\n",
      "Final RMSE of the best model on the test set: 0.0000\n"
     ]
    }
   ],
   "source": [
    "# Cross-validate each model and store the results\n",
    "results = {}\n",
    "for model_name, model in models.items():\n",
    "    scores = cross_val_score(model, X_train, y_train, cv=5, scoring='neg_mean_squared_error')\n",
    "    results[model_name] = np.mean(np.sqrt(-scores))  # Use RMSE for easier interpretation\n",
    "    print(f\"{model_name}: RMSE = {results[model_name]:.4f} (+/- {np.std(np.sqrt(-scores)):.4f})\")\n",
    "\n",
    "# Select the best model based on cross-validation results\n",
    "best_model_name = min(results, key=results.get)\n",
    "best_model = models[best_model_name]\n",
    "print(f\"Best Model: {best_model_name} with RMSE of {results[best_model_name]:.4f}\")\n",
    "\n",
    "# Define hyperparameter grids for fine-tuning\n",
    "param_grid = {\n",
    "    'Random Forest': {\n",
    "        'n_estimators': [100, 200, 300],\n",
    "        'max_depth': [None, 10, 20, 30]\n",
    "    },\n",
    "    'SVR': {\n",
    "        'C': [0.1, 1, 10],\n",
    "        'kernel': ['linear', 'rbf'],\n",
    "        'gamma': ['scale', 'auto']\n",
    "    }\n",
    "}\n",
    "\n",
    "# Perform Grid Search for the best model (if it has hyperparameters to tune)\n",
    "if best_model_name in param_grid:\n",
    "    grid_search = GridSearchCV(best_model, param_grid[best_model_name], cv=5, scoring='neg_mean_squared_error')\n",
    "    grid_search.fit(X_train, y_train)\n",
    "    best_model = grid_search.best_estimator_\n",
    "    print(f\"Best parameters for {best_model_name}: {grid_search.best_params_}\")\n",
    "\n",
    "# Evaluate the final tuned model on the test set\n",
    "best_model.fit(X_train, y_train)\n",
    "y_pred = best_model.predict(X_test)\n",
    "rmse = np.sqrt(mean_squared_error(y_test, y_pred))\n",
    "print(f\"Final RMSE of the best model on the test set: {rmse:.4f}\")"
   ]
  },
  {
   "cell_type": "code",
   "execution_count": 231,
   "id": "adfc93f3-1c24-4b33-aef9-6a5bbcbe5fe3",
   "metadata": {},
   "outputs": [
    {
     "name": "stdout",
     "output_type": "stream",
     "text": [
      "Model score: 1.0\n",
      "Mean absolute error: 0.01\n",
      "Root mean squared error: 0.02\n",
      "R2: 1.0\n"
     ]
    }
   ],
   "source": [
    "rf =RandomForestRegressor(criterion='squared_error', random_state=0).fit(X_train, y_train) #Random_state is the seed used by the random number generator\n",
    "predictions_rf = rf.predict(X_test)\n",
    "\n",
    "# Metrics\n",
    "print('Model score:',              round(rf.score(X_test, y_test),2))\n",
    "print('Mean absolute error:',      round(mean_absolute_error(y_test, predictions_rf),2))\n",
    "print('Root mean squared error:',  round(sqrt(mean_squared_error(y_test, predictions_rf)),2))\n",
    "print('R2:',                       round(r2_score(y_test, predictions_rf),2))"
   ]
  },
  {
   "cell_type": "code",
   "execution_count": 233,
   "id": "c52329f8-78f3-47ea-ae22-d3e4ef326b2e",
   "metadata": {},
   "outputs": [
    {
     "name": "stdout",
     "output_type": "stream",
     "text": [
      "All features total training and testing time: 0.29 seconds.\n"
     ]
    }
   ],
   "source": [
    "# We require to import the time library for the run time evaluation\n",
    "import time\n",
    "\n",
    "# All features training and testing time\n",
    "all_features_time = []\n",
    "\n",
    "# We decide to do 10 iterations and take average for all features\n",
    "for _ in range(10):\n",
    "    start_time = time.time()\n",
    "    rf.fit(X_train, y_train)\n",
    "    all_features_predictions = rf.predict(X_test)\n",
    "    end_time = time.time()\n",
    "    all_features_time.append(end_time - start_time)\n",
    "\n",
    "all_features_time = np.mean(all_features_time)\n",
    "print('All features total training and testing time:', round(all_features_time, 2), 'seconds.')"
   ]
  },
  {
   "cell_type": "code",
   "execution_count": 235,
   "id": "3cdcf505-f1d3-4c02-9389-d27ae29cf0b5",
   "metadata": {},
   "outputs": [
    {
     "name": "stdout",
     "output_type": "stream",
     "text": [
      "Parameters currently in use:\n",
      "\n",
      "{'bootstrap': True,\n",
      " 'ccp_alpha': 0.0,\n",
      " 'criterion': 'squared_error',\n",
      " 'max_depth': None,\n",
      " 'max_features': 1.0,\n",
      " 'max_leaf_nodes': None,\n",
      " 'max_samples': None,\n",
      " 'min_impurity_decrease': 0.0,\n",
      " 'min_samples_leaf': 1,\n",
      " 'min_samples_split': 2,\n",
      " 'min_weight_fraction_leaf': 0.0,\n",
      " 'n_estimators': 100,\n",
      " 'n_jobs': None,\n",
      " 'oob_score': False,\n",
      " 'random_state': 0,\n",
      " 'verbose': 0,\n",
      " 'warm_start': False}\n"
     ]
    }
   ],
   "source": [
    "print('Parameters currently in use:\\n')\n",
    "pprint(rf.get_params())"
   ]
  },
  {
   "cell_type": "code",
   "execution_count": 237,
   "id": "08de8e77-8bd3-4701-aba2-a30ced1526d1",
   "metadata": {},
   "outputs": [
    {
     "name": "stdout",
     "output_type": "stream",
     "text": [
      "{'bootstrap': [True, False],\n",
      " 'max_depth': [4, 30, None],\n",
      " 'min_samples_leaf': [1, 2, 4],\n",
      " 'min_samples_split': [2, 3, 4, 5, 10],\n",
      " 'n_estimators': [2,\n",
      "                  107,\n",
      "                  212,\n",
      "                  317,\n",
      "                  422,\n",
      "                  527,\n",
      "                  632,\n",
      "                  738,\n",
      "                  843,\n",
      "                  948,\n",
      "                  1053,\n",
      "                  1158,\n",
      "                  1263,\n",
      "                  1369,\n",
      "                  1474,\n",
      "                  1579,\n",
      "                  1684,\n",
      "                  1789,\n",
      "                  1894,\n",
      "                  2000]}\n"
     ]
    }
   ],
   "source": [
    "# Definition of specific parameters for Random forest \n",
    "# Number of trees in random forest\n",
    "n_estimators = [int(x) for x in np.linspace(start = 2, stop = 2000, num = 20)]\n",
    "# Number of features to consider at every split\n",
    "max_features = ['auto', 'sqrt']\n",
    "# Maximum number of levels in tree\n",
    "max_depth = [int(x) for x in np.linspace(4, 30, num = 2)]\n",
    "max_depth.append(None)\n",
    "# Minimum number of samples required to split a node\n",
    "min_samples_split = [2, 3, 4, 5, 10]\n",
    "# Minimum number of samples required at each leaf node\n",
    "min_samples_leaf = [1, 2, 4]\n",
    "# Method of selecting samples for training each tree\n",
    "bootstrap = [True, False]\n",
    "\n",
    "# Create the random grid\n",
    "random_grid = {'n_estimators': n_estimators,\n",
    "               'max_depth': max_depth,\n",
    "               'min_samples_split': min_samples_split,\n",
    "               'min_samples_leaf': min_samples_leaf,\n",
    "               'bootstrap': bootstrap}\n",
    "\n",
    "pprint(random_grid)"
   ]
  },
  {
   "cell_type": "code",
   "execution_count": 239,
   "id": "d8f36b1d-5262-4da1-8adb-6bcc92685679",
   "metadata": {},
   "outputs": [
    {
     "name": "stdout",
     "output_type": "stream",
     "text": [
      "Fitting 3 folds for each of 15 candidates, totalling 45 fits\n"
     ]
    }
   ],
   "source": [
    "rf = RandomForestRegressor(random_state = 42)\n",
    "\n",
    "# Use the random grid to search for best hyperparameters\n",
    "# Random search of parameters, using 3 fold cross validation, \n",
    "# search across different combinations.\n",
    "rf_random = RandomizedSearchCV(estimator=rf, param_distributions=random_grid, n_iter = 15, scoring='neg_mean_absolute_error',  cv = 3, verbose=2, random_state=42, n_jobs=-1, return_train_score=True)\n",
    "\n",
    "# Fit the random search model\n",
    "rf_random.fit(X_train, y_train);"
   ]
  },
  {
   "cell_type": "code",
   "execution_count": 240,
   "id": "91e1b0c9-b6a6-4096-93c8-765e175fda8f",
   "metadata": {},
   "outputs": [
    {
     "data": {
      "text/plain": [
       "{'n_estimators': 1894,\n",
       " 'min_samples_split': 3,\n",
       " 'min_samples_leaf': 2,\n",
       " 'max_depth': None,\n",
       " 'bootstrap': False}"
      ]
     },
     "execution_count": 240,
     "metadata": {},
     "output_type": "execute_result"
    }
   ],
   "source": [
    "rf_random.best_params_"
   ]
  },
  {
   "cell_type": "code",
   "execution_count": 247,
   "id": "3349cb9e-82f7-4de3-8c14-299c88f4e6ac",
   "metadata": {},
   "outputs": [
    {
     "name": "stdout",
     "output_type": "stream",
     "text": [
      "Model score: 1.0\n",
      "Mean absolute error: 0.0\n",
      "Root mean squared error: 0.0\n",
      "R2: 1.0\n"
     ]
    }
   ],
   "source": [
    "best_random = rf_random.best_estimator_.fit(X_train, y_train)\n",
    "predictions_best_random_test = best_random.predict(X_test)\n",
    "predictions_best_random_train = best_random.predict(X_train)\n",
    "\n",
    "print('Model score:', round(best_random.score(X_test, y_test),2))\n",
    "print('Mean absolute error:', round(mean_absolute_error(y_test, predictions_best_random_test),2))\n",
    "print('Root mean squared error:', round(sqrt(mean_squared_error(y_test, predictions_best_random_test)),2))\n",
    "print('R2:', round(r2_score(y_test, predictions_best_random_test),2))\n",
    "\n",
    "r2_rf=r2_score(y_test, predictions_best_random_test)\n",
    "Mean_absolute_error_rf=mean_absolute_error(y_test, predictions_best_random_test)\n",
    "Root_mean_squared_error_rf=sqrt(mean_squared_error(y_test, predictions_best_random_test))"
   ]
  },
  {
   "cell_type": "code",
   "execution_count": 242,
   "id": "1f4cbbea-9643-4d14-b427-10168e136ed2",
   "metadata": {},
   "outputs": [
    {
     "name": "stdout",
     "output_type": "stream",
     "text": [
      "Training Model score: 1.0\n",
      "Training Mean absolute error: 0.0\n",
      "Training Root mean squared error: 0.0\n",
      "Training R2: 1.0\n"
     ]
    }
   ],
   "source": [
    "# Metrics for training data\n",
    "print('Training Model score:', round(best_random.score(X_train, y_train), 2))\n",
    "print('Training Mean absolute error:', round(mean_absolute_error(y_train, predictions_best_random_train), 2))\n",
    "print('Training Root mean squared error:', round(sqrt(mean_squared_error(y_train, predictions_best_random_train)), 2))\n",
    "print('Training R2:', round(r2_score(y_train, predictions_best_random_train), 2))\n",
    "\n",
    "r2_rf_train = r2_score(y_train, predictions_best_random_train)\n",
    "Mean_absolute_error_rf_train = mean_absolute_error(y_train, predictions_best_random_train)\n",
    "Root_mean_squared_error_rf_train = sqrt(mean_squared_error(y_train, predictions_best_random_train))"
   ]
  },
  {
   "cell_type": "code",
   "execution_count": 249,
   "id": "8ac5e6aa-b3b6-4b3a-95dd-d6ba949025f9",
   "metadata": {},
   "outputs": [
    {
     "name": "stdout",
     "output_type": "stream",
     "text": [
      "    Deg. Misalign (Actual)  Deg. Misalign (Predicted)\n",
      "0                      0.5                        0.5\n",
      "1                      3.5                        3.5\n",
      "2                      2.5                        2.5\n",
      "3                      0.5                        0.5\n",
      "4                      0.5                        0.5\n",
      "5                      2.0                        2.0\n",
      "6                      0.5                        0.5\n",
      "7                      0.5                        0.5\n",
      "8                      0.5                        0.5\n",
      "9                      0.0                        0.0\n",
      "10                     0.5                        0.5\n",
      "11                     4.5                        4.5\n",
      "12                     0.5                        0.5\n",
      "13                     2.0                        2.0\n",
      "14                     0.5                        0.5\n",
      "15                     2.0                        2.0\n",
      "16                     2.0                        2.0\n",
      "17                     3.5                        3.5\n",
      "18                     2.0                        2.0\n",
      "19                     0.5                        0.5\n",
      "20                     3.5                        3.5\n",
      "21                     0.0                        0.0\n",
      "22                     2.0                        2.0\n",
      "23                     2.0                        2.0\n",
      "24                     3.5                        3.5\n",
      "25                     0.5                        0.5\n",
      "26                     4.5                        4.5\n",
      "27                     3.5                        3.5\n",
      "28                     0.0                        0.0\n",
      "29                     2.0                        2.0\n",
      "30                     2.0                        2.0\n",
      "31                     1.5                        1.5\n",
      "32                     4.5                        4.5\n",
      "33                     3.5                        3.5\n",
      "34                     0.5                        0.5\n",
      "35                     0.5                        0.5\n",
      "36                     4.5                        4.5\n",
      "37                     2.0                        2.0\n",
      "38                     2.0                        2.0\n",
      "39                     0.0                        0.0\n",
      "40                     0.5                        0.5\n",
      "41                     3.5                        3.5\n",
      "42                     4.5                        4.5\n",
      "43                     0.5                        0.5\n",
      "44                     0.5                        0.5\n",
      "45                     0.5                        0.5\n",
      "46                     0.5                        0.5\n",
      "47                     2.0                        2.0\n",
      "48                     0.5                        0.5\n",
      "49                     2.0                        2.0\n",
      "50                     3.5                        3.5\n",
      "51                     3.5                        3.5\n",
      "52                     0.0                        0.0\n",
      "53                     2.0                        2.0\n",
      "54                     0.5                        0.5\n",
      "55                     2.0                        2.0\n",
      "56                     0.5                        0.5\n",
      "57                     0.5                        0.5\n",
      "58                     1.0                        1.0\n",
      "59                     2.0                        2.0\n"
     ]
    }
   ],
   "source": [
    "result_df = result_df = pd.DataFrame({'Deg. Misalign (Actual)': y_test, 'Deg. Misalign (Predicted)': predictions_best_random_test})\n",
    "print(result_df)"
   ]
  },
  {
   "cell_type": "code",
   "execution_count": 251,
   "id": "e98e0b97-cebd-4d01-8117-28de82378b84",
   "metadata": {},
   "outputs": [
    {
     "data": {
      "image/png": "[encoded data removed]",
      "text/plain": [
       "<Figure size 640x480 with 1 Axes>"
      ]
     },
     "metadata": {},
     "output_type": "display_data"
    }
   ],
   "source": [
    "from scipy import stats\n",
    "import statsmodels as sm\n",
    "\n",
    "X_train_np = np.array(X_train)\n",
    "y_np = np.array(y_train)\n",
    "\n",
    "def abline(slope, intercept):\n",
    "    axes = plt.gca()\n",
    "    x_vals = np.array(axes.get_xlim())\n",
    "    y_vals = intercept + slope * x_vals\n",
    "    plt.plot(x_vals, y_vals, '-',color='red')\n",
    "\n",
    "#predict y values for training data\n",
    "y_hat = predictions_best_random_train \n",
    "\n",
    "#plot predicted vs actual\n",
    "plt.plot(y_hat,y_np,'o')\n",
    "plt.xlabel('Actual'),#color='white')\n",
    "plt.ylabel('Predicted')#,color='white')\n",
    "plt.title('Predicted Misalignment Degree vs. Actual Misalignment Degree (Train Data): (Random Forest)')#,color='white')\n",
    "abline(1,0)\n",
    "plt.show()"
   ]
  },
  {
   "cell_type": "code",
   "execution_count": 253,
   "id": "fa056672-ee3a-4544-a000-6b08d59f2daa",
   "metadata": {},
   "outputs": [
    {
     "data": {
      "image/png": "[encoded data removed]",
      "text/plain": [
       "<Figure size 640x480 with 1 Axes>"
      ]
     },
     "metadata": {},
     "output_type": "display_data"
    }
   ],
   "source": [
    "rf.fit(X_train, y_train)\n",
    "def abline(slope, intercept):\n",
    "    axes = plt.gca()\n",
    "    x_vals = np.array(axes.get_xlim())\n",
    "    y_vals = intercept + slope * x_vals\n",
    "    plt.plot(x_vals, y_vals, '-',color='red')\n",
    "\n",
    "# Predict y values for test data\n",
    "y_hat_test = rf.predict(X_test)\n",
    "y_test_np = np.array(y_test).ravel()  # Ensure y_test is in the same format as y_hat_test\n",
    "\n",
    "# Plot predicted vs actual for test data\n",
    "plt.plot(y_hat_test, y_test_np, 'o')\n",
    "plt.xlabel('Actual'),#color='white')\n",
    "plt.ylabel('Predicted')#,color='white')\n",
    "plt.title('Predicted Misalignment Degree vs. Actual Misalignment Degree (Test Data): (Random Forest)'),#color='white')\n",
    "abline(1, 0)\n",
    "plt.show()"
   ]
  },
  {
   "cell_type": "code",
   "execution_count": 257,
   "id": "6d6fbe7a-423b-47cc-94bd-7c8f1c84fece",
   "metadata": {},
   "outputs": [
    {
     "name": "stdout",
     "output_type": "stream",
     "text": [
      "              Feature  Importance\n",
      "3  Refusal Depth (ft)    0.459402\n",
      "2                 BPF    0.406166\n",
      "5            Ys (psi)    0.080174\n",
      "4            Wt (ppf)    0.018606\n",
      "0             OD (in)    0.018300\n",
      "1             ID (in)    0.017352\n"
     ]
    }
   ],
   "source": [
    "# Get feature importances\n",
    "feature_importances = best_random.feature_importances_\n",
    "\n",
    "# Create a DataFrame to display feature importances\n",
    "feature_importance_df = pd.DataFrame({'Feature': X_train.columns, 'Importance': feature_importances})\n",
    "\n",
    "# Sort the DataFrame by importance\n",
    "feature_importance_df = feature_importance_df.sort_values(by='Importance', ascending=False)\n",
    "\n",
    "# Display the sorted feature importances\n",
    "print(feature_importance_df)"
   ]
  },
  {
   "cell_type": "code",
   "execution_count": 261,
   "id": "9a7b7974-0d68-41c5-ab18-f5c2b8bcda6c",
   "metadata": {},
   "outputs": [
    {
     "data": {
      "image/png": "[encoded data removed]",
      "text/plain": [
       "<Figure size 640x480 with 1 Axes>"
      ]
     },
     "metadata": {},
     "output_type": "display_data"
    }
   ],
   "source": [
    "importances_rf= pd.Series(best_random.feature_importances_, index = X.columns)\n",
    "sorted_importances_rf = importances_rf.sort_values()\n",
    "sorted_importances_rf.plot(kind='barh', color='blue'); plt.show()"
   ]
  },
  {
   "cell_type": "markdown",
   "id": "e4d72b68-0181-4c15-99e7-4607e77cf343",
   "metadata": {},
   "source": [
    "LINEAR REGRESSION"
   ]
  },
  {
   "cell_type": "code",
   "execution_count": 266,
   "id": "5ccac9db-7198-4e11-8ac0-39380cf4a9db",
   "metadata": {},
   "outputs": [
    {
     "name": "stdout",
     "output_type": "stream",
     "text": [
      "Mean Squared Error: 1.3216553442634011\n",
      "R-squared: 0.35876019988736496\n",
      "                    Coefficient\n",
      "OD (in)                0.491885\n",
      "ID (in)                0.536024\n",
      "BPF                   -0.007934\n",
      "Refusal Depth (ft)     0.008879\n",
      "Days                  -0.204692\n",
      "Wt (ppf)              -0.049946\n",
      "Ys (psi)              -0.000200\n"
     ]
    }
   ],
   "source": [
    "# Features and target\n",
    "X = df.drop('Deg. Misalign', axis=1)  # Drop the target column to get the features\n",
    "y = df['Deg. Misalign']  # Target variable\n",
    "\n",
    "# Splitting the data into training and testing sets (80% train, 20% test)\n",
    "X_train, X_test, y_train, y_test = train_test_split(X, y, test_size=0.2, random_state=42)\n",
    "\n",
    "# Initialize the linear regression model\n",
    "model = LinearRegression()\n",
    "\n",
    "# Fit the model to the training data\n",
    "model.fit(X_train, y_train)\n",
    "\n",
    "# Predict on the test data\n",
    "y_pred = model.predict(X_test)\n",
    "\n",
    "# Evaluate the model\n",
    "mse = mean_squared_error(y_test, y_pred)  # Mean Squared Error\n",
    "r2 = r2_score(y_test, y_pred)  # R-squared, to check how well the model explains the variability\n",
    "\n",
    "# Print the results\n",
    "print(f\"Mean Squared Error: {mse}\")\n",
    "print(f\"R-squared: {r2}\")\n",
    "\n",
    "# Optional: Print model coefficients\n",
    "coefficients = pd.DataFrame(model.coef_, X.columns, columns=['Coefficient'])\n",
    "print(coefficients)"
   ]
  },
  {
   "cell_type": "code",
   "execution_count": 268,
   "id": "3b271b4e-ba55-4eae-bd45-7e241021f269",
   "metadata": {},
   "outputs": [
    {
     "name": "stdout",
     "output_type": "stream",
     "text": [
      "Model Score (R-squared): 0.35876019988736496\n"
     ]
    }
   ],
   "source": [
    "model_score = model.score(X_test, y_test)\n",
    "print(f\"Model Score (R-squared): {model_score}\")"
   ]
  },
  {
   "cell_type": "code",
   "execution_count": 276,
   "id": "0a094fc7-1690-48e9-98f9-124035eda7b1",
   "metadata": {},
   "outputs": [
    {
     "name": "stdout",
     "output_type": "stream",
     "text": [
      "Mean Squared Error: 0.0\n",
      "R-squared: 1.0\n",
      "Model Score (R-squared): 1.0\n"
     ]
    }
   ],
   "source": [
    "\n",
    "X = df.drop('Deg. Misalign', axis=1)  # Drop the target column to get the features\n",
    "y = df['Deg. Misalign']  # Target variable\n",
    "\n",
    "# Splitting the data into training and testing sets (80% train, 20% test)\n",
    "X_train, X_test, y_train, y_test = train_test_split(X, y, test_size=0.2, random_state=42)\n",
    "\n",
    "# Initialize the Decision Tree model\n",
    "model = DecisionTreeRegressor(random_state=42)  # Use DecisionTreeClassifier() for classification\n",
    "\n",
    "# Fit the model to the training data\n",
    "model.fit(X_train, y_train)\n",
    "\n",
    "# Predict on the test data\n",
    "y_pred = model.predict(X_test)\n",
    "\n",
    "# Evaluate the model\n",
    "mse = mean_squared_error(y_test, y_pred)  # Mean Squared Error\n",
    "r2 = r2_score(y_test, y_pred)  # R-squared\n",
    "\n",
    "# Print the results\n",
    "print(f\"Mean Squared Error: {mse}\")\n",
    "print(f\"R-squared: {r2}\")\n",
    "\n",
    "# Print model score (R-squared)\n",
    "model_score = model.score(X_test, y_test)\n",
    "print(f\"Model Score (R-squared): {model_score}\")\n",
    "\n"
   ]
  },
  {
   "cell_type": "code",
   "execution_count": 280,
   "id": "13654753-05a8-45ab-9793-fc03157e12be",
   "metadata": {},
   "outputs": [
    {
     "name": "stdout",
     "output_type": "stream",
     "text": [
      "Mean Squared Error: 2.1910192692631716\n",
      "R-squared: -0.0630371710472517\n",
      "Model Score (R-squared): -0.0630371710472517\n"
     ]
    }
   ],
   "source": [
    "X = df.drop('Deg. Misalign', axis=1)  # Drop the target column to get the features\n",
    "y = df['Deg. Misalign']  # Target variable\n",
    "\n",
    "# Splitting the data into training and testing sets (80% train, 20% test)\n",
    "X_train, X_test, y_train, y_test = train_test_split(X, y, test_size=0.2, random_state=42)\n",
    "\n",
    "# Initialize the SVR model\n",
    "model = SVR(kernel='rbf')  # 'rbf' is the radial basis function kernel, other options are 'linear', 'poly', etc.\n",
    "\n",
    "# Fit the model to the training data\n",
    "model.fit(X_train, y_train)\n",
    "\n",
    "# Predict on the test data\n",
    "y_pred = model.predict(X_test)\n",
    "\n",
    "# Evaluate the model\n",
    "mse = mean_squared_error(y_test, y_pred)  # Mean Squared Error\n",
    "r2 = r2_score(y_test, y_pred)  # R-squared\n",
    "\n",
    "# Print the results\n",
    "print(f\"Mean Squared Error: {mse}\")\n",
    "print(f\"R-squared: {r2}\")\n",
    "\n",
    "# Print model score (R-squared)\n",
    "model_score = model.score(X_test, y_test)\n",
    "print(f\"Model Score (R-squared): {model_score}\")"
   ]
  },
  {
   "cell_type": "code",
   "execution_count": null,
   "id": "a837672a-1ac5-41b0-9008-e97fe629a1b2",
   "metadata": {},
   "outputs": [],
   "source": []
  },
  {
   "cell_type": "code",
   "execution_count": null,
   "id": "410c9288-358b-488c-be2c-84cfb81522c7",
   "metadata": {},
   "outputs": [],
   "source": []
  }
 ],
 "metadata": {
  "kernelspec": {
   "display_name": "Python 3 (ipykernel)",
   "language": "python",
   "name": "python3"
  },
  "language_info": {
   "codemirror_mode": {
    "name": "ipython",
    "version": 3
   },
   "file_extension": ".py",
   "mimetype": "text/x-python",
   "name": "python",
   "nbconvert_exporter": "python",
   "pygments_lexer": "ipython3",
   "version": "3.11.7"
  }
 },
 "nbformat": 4,
 "nbformat_minor": 5
}
